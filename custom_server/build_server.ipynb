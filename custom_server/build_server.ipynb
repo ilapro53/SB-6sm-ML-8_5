{
 "cells": [
  {
   "cell_type": "code",
   "execution_count": null,
   "metadata": {},
   "outputs": [],
   "source": [
    "%pip install flask gevent"
   ]
  },
  {
   "cell_type": "code",
   "execution_count": 1,
   "metadata": {},
   "outputs": [
    {
     "name": "stdout",
     "output_type": "stream",
     "text": [
      "/mnt/o/study/ml_6/8.5/custom_server\n"
     ]
    }
   ],
   "source": [
    "!pwd"
   ]
  },
  {
   "cell_type": "code",
   "execution_count": 20,
   "metadata": {},
   "outputs": [],
   "source": [
    "!mkdir -p ./server_models/my_model/1/\n",
    "!cp ../local/my_model.keras ./server_models/my_model/1/my_model.keras"
   ]
  },
  {
   "cell_type": "code",
   "execution_count": 1,
   "metadata": {},
   "outputs": [
    {
     "name": "stdout",
     "output_type": "stream",
     "text": [
      "Overwriting server.py\n"
     ]
    }
   ],
   "source": [
    "%%writefile server.py\n",
    "from flask import Flask, request\n",
    "from markupsafe import escape\n",
    "from gevent.pywsgi import WSGIServer\n",
    "import json\n",
    "from pathlib import Path\n",
    "import os\n",
    "import re\n",
    "import tensorflow as tf\n",
    "import numpy as np\n",
    "\n",
    "\n",
    "print('Current server path:', Path().resolve())\n",
    "models_folder = Path(\"./server_models\")\n",
    "\n",
    "app = Flask(__name__)\n",
    "\n",
    "def load_model(name, version):\n",
    "    path = models_folder / name / str(version)\n",
    "\n",
    "    if os.path.exists(path):\n",
    "        f = [p for p in os.listdir(path) if p.endswith(\".keras\")]\n",
    "        if len(f) == 1:\n",
    "            return tf.keras.models.load_model(path / f[0])\n",
    "\n",
    "\n",
    "def load_best_model(model_name):\n",
    "    versions = os.listdir(models_folder / model_name)\n",
    "\n",
    "    rg = re.compile(r\"\\d+\")\n",
    "    versions = set([int(s) for s in versions if rg.match(s)])\n",
    "    versions = list([s for s in versions if str(s) == str(int(s))])\n",
    "    versions.sort(reverse=True)\n",
    "\n",
    "    for ver in versions:\n",
    "        try:\n",
    "            model = load_model(model_name, ver)\n",
    "            if not (model is None):\n",
    "                return model\n",
    "        except Exception as e:\n",
    "            print(e)\n",
    "\n",
    "    raise Exception(\"Model not found or can't load any version of model\")\n",
    "\n",
    "\n",
    "def best_model_predict(model_name, input_data):\n",
    "    model = load_best_model(model_name)\n",
    "\n",
    "    pred_data = model.predict(input_data)\n",
    "    return pred_data\n",
    "\n",
    "\n",
    "@app.route(\"/models/<model>/:predict\", methods=[\"POST\"])\n",
    "def main(model):\n",
    "\n",
    "    try:\n",
    "        ## model ##\n",
    "\n",
    "        data = json.loads(request.data)\n",
    "\n",
    "        if not (model in os.listdir(models_folder)):\n",
    "            return {\"error\": f\"not found model: {model}\"}\n",
    "\n",
    "        ## version ##\n",
    "\n",
    "        versions = os.listdir(models_folder / model)\n",
    "\n",
    "        rg = re.compile(r\"\\d+\")\n",
    "        versions = set([int(s) for s in versions if rg.match(s)])\n",
    "        versions = set([s for s in versions if str(s) == str(int(s))])\n",
    "\n",
    "        if len(versions) != 0:\n",
    "            version = str(max(versions))\n",
    "        else:\n",
    "            return {\"error\": f\"no versions found for model \\\"{model}\\\"\"}\n",
    "\n",
    "        # model = load_best_model(model)\n",
    "\n",
    "        if not ('instances' in data):\n",
    "            raise Exception('No field \"instances\" found in your data')\n",
    "        \n",
    "        data = np.array(data['instances'])\n",
    "\n",
    "        pred = best_model_predict(\n",
    "            model_name=model, \n",
    "            input_data=data\n",
    "        )\n",
    "        \n",
    "        return {'prdictions': pred.tolist()}\n",
    "    except Exception as e:\n",
    "        print(e)\n",
    "        return {'error': str(e)}\n",
    "\n",
    "\n",
    "if __name__ == \"__main__\":\n",
    "    # app.run(port=8000)\n",
    "    http_server = WSGIServer((\"\", 8502), app)\n",
    "    print(\"Server is running. Ctrl+C to interrupt.\")\n",
    "    http_server.serve_forever()\n"
   ]
  },
  {
   "cell_type": "code",
   "execution_count": 10,
   "metadata": {},
   "outputs": [
    {
     "name": "stdout",
     "output_type": "stream",
     "text": [
      "Server is running. Ctrl+C to interrupt.\n",
      "^C\n",
      "KeyboardInterrupt\n",
      "2024-05-24T19:44:55Z\n",
      "Traceback (most recent call last):\n",
      "  File \"/mnt/o/study/ml_6/8.5/custom_server/server.py\", line 19, in <module>\n",
      "    http_server.serve_forever()\n",
      "  File \"/home/ilapr/anaconda3/lib/python3.11/site-packages/gevent/baseserver.py\", line 400, in serve_forever\n",
      "    self._stop_event.wait()\n",
      "  File \"src/gevent/event.py\", line 163, in gevent._gevent_cevent.Event.wait\n",
      "  File \"src/gevent/_abstract_linkable.py\", line 521, in gevent._gevent_c_abstract_linkable.AbstractLinkable._wait\n",
      "  File \"src/gevent/_abstract_linkable.py\", line 487, in gevent._gevent_c_abstract_linkable.AbstractLinkable._wait_core\n",
      "  File \"src/gevent/_abstract_linkable.py\", line 490, in gevent._gevent_c_abstract_linkable.AbstractLinkable._wait_core\n",
      "  File \"src/gevent/_abstract_linkable.py\", line 442, in gevent._gevent_c_abstract_linkable.AbstractLinkable._AbstractLinkable__wait_to_be_notified\n",
      "  File \"src/gevent/_abstract_linkable.py\", line 451, in gevent._gevent_c_abstract_linkable.AbstractLinkable._switch_to_hub\n",
      "  File \"src/gevent/_greenlet_primitives.py\", line 61, in gevent._gevent_c_greenlet_primitives.SwitchOutGreenletWithLoop.switch\n",
      "  File \"src/gevent/_greenlet_primitives.py\", line 65, in gevent._gevent_c_greenlet_primitives.SwitchOutGreenletWithLoop.switch\n",
      "  File \"src/gevent/_gevent_c_greenlet_primitives.pxd\", line 35, in gevent._gevent_c_greenlet_primitives._greenlet_switch\n",
      "KeyboardInterrupt\n"
     ]
    }
   ],
   "source": [
    "!python server.py"
   ]
  }
 ],
 "metadata": {
  "kernelspec": {
   "display_name": "base",
   "language": "python",
   "name": "python3"
  },
  "language_info": {
   "codemirror_mode": {
    "name": "ipython",
    "version": 3
   },
   "file_extension": ".py",
   "mimetype": "text/x-python",
   "name": "python",
   "nbconvert_exporter": "python",
   "pygments_lexer": "ipython3",
   "version": "3.11.7"
  }
 },
 "nbformat": 4,
 "nbformat_minor": 2
}

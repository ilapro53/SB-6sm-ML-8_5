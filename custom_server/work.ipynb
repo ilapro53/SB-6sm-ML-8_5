{
 "cells": [
  {
   "cell_type": "code",
   "execution_count": 3,
   "metadata": {},
   "outputs": [
    {
     "name": "stdout",
     "output_type": "stream",
     "text": [
      "Requirement already satisfied: flask in /home/ilapr/anaconda3/lib/python3.11/site-packages (2.2.5)\n",
      "Collecting gevent\n",
      "  Downloading gevent-24.2.1-cp311-cp311-manylinux_2_28_x86_64.whl.metadata (13 kB)\n",
      "Requirement already satisfied: Werkzeug>=2.2.2 in /home/ilapr/anaconda3/lib/python3.11/site-packages (from flask) (2.2.2)\n",
      "Requirement already satisfied: Jinja2>=3.0 in /home/ilapr/anaconda3/lib/python3.11/site-packages (from flask) (3.1.3)\n",
      "Requirement already satisfied: itsdangerous>=2.0 in /home/ilapr/anaconda3/lib/python3.11/site-packages (from flask) (2.0.1)\n",
      "Requirement already satisfied: click>=8.0 in /home/ilapr/anaconda3/lib/python3.11/site-packages (from flask) (8.1.7)\n",
      "Collecting zope.event (from gevent)\n",
      "  Downloading zope.event-5.0-py3-none-any.whl.metadata (4.4 kB)\n",
      "Requirement already satisfied: zope.interface in /home/ilapr/anaconda3/lib/python3.11/site-packages (from gevent) (5.4.0)\n",
      "Requirement already satisfied: greenlet>=3.0rc3 in /home/ilapr/anaconda3/lib/python3.11/site-packages (from gevent) (3.0.1)\n",
      "Requirement already satisfied: MarkupSafe>=2.0 in /home/ilapr/anaconda3/lib/python3.11/site-packages (from Jinja2>=3.0->flask) (2.1.1)\n",
      "Requirement already satisfied: setuptools in /home/ilapr/anaconda3/lib/python3.11/site-packages (from zope.event->gevent) (68.2.2)\n",
      "Downloading gevent-24.2.1-cp311-cp311-manylinux_2_28_x86_64.whl (6.7 MB)\n",
      "\u001b[2K   \u001b[90m━━━━━━━━━━━━━━━━━━━━━━━━━━━━━━━━━━━━━━━━\u001b[0m \u001b[32m6.7/6.7 MB\u001b[0m \u001b[31m2.4 MB/s\u001b[0m eta \u001b[36m0:00:00\u001b[0m00:01\u001b[0m00:01\u001b[0m\n",
      "\u001b[?25hDownloading zope.event-5.0-py3-none-any.whl (6.8 kB)\n",
      "Installing collected packages: zope.event, gevent\n",
      "Successfully installed gevent-24.2.1 zope.event-5.0\n",
      "Note: you may need to restart the kernel to use updated packages.\n"
     ]
    }
   ],
   "source": [
    "%pip install flask gevent"
   ]
  },
  {
   "cell_type": "code",
   "execution_count": 9,
   "metadata": {},
   "outputs": [],
   "source": [
    "# %%writefile server.py\n",
    "\n",
    "# from flask import Flask\n",
    "# from markupsafe import escape\n",
    "\n",
    "# app = Flask(__name__)\n",
    "\n",
    "\n",
    "# @app.route(\"/<name>\")\n",
    "# def hello(name):\n",
    "#     return f\"Hello, {escape(name)}!\""
   ]
  },
  {
   "cell_type": "code",
   "execution_count": 10,
   "metadata": {},
   "outputs": [
    {
     "name": "stdout",
     "output_type": "stream",
     "text": [
      "Server is running. Ctrl+C to interrupt.\n",
      "^C\n",
      "KeyboardInterrupt\n",
      "2024-05-24T19:44:55Z\n",
      "Traceback (most recent call last):\n",
      "  File \"/mnt/o/study/ml_6/8.5/custom_server/server.py\", line 19, in <module>\n",
      "    http_server.serve_forever()\n",
      "  File \"/home/ilapr/anaconda3/lib/python3.11/site-packages/gevent/baseserver.py\", line 400, in serve_forever\n",
      "    self._stop_event.wait()\n",
      "  File \"src/gevent/event.py\", line 163, in gevent._gevent_cevent.Event.wait\n",
      "  File \"src/gevent/_abstract_linkable.py\", line 521, in gevent._gevent_c_abstract_linkable.AbstractLinkable._wait\n",
      "  File \"src/gevent/_abstract_linkable.py\", line 487, in gevent._gevent_c_abstract_linkable.AbstractLinkable._wait_core\n",
      "  File \"src/gevent/_abstract_linkable.py\", line 490, in gevent._gevent_c_abstract_linkable.AbstractLinkable._wait_core\n",
      "  File \"src/gevent/_abstract_linkable.py\", line 442, in gevent._gevent_c_abstract_linkable.AbstractLinkable._AbstractLinkable__wait_to_be_notified\n",
      "  File \"src/gevent/_abstract_linkable.py\", line 451, in gevent._gevent_c_abstract_linkable.AbstractLinkable._switch_to_hub\n",
      "  File \"src/gevent/_greenlet_primitives.py\", line 61, in gevent._gevent_c_greenlet_primitives.SwitchOutGreenletWithLoop.switch\n",
      "  File \"src/gevent/_greenlet_primitives.py\", line 65, in gevent._gevent_c_greenlet_primitives.SwitchOutGreenletWithLoop.switch\n",
      "  File \"src/gevent/_gevent_c_greenlet_primitives.pxd\", line 35, in gevent._gevent_c_greenlet_primitives._greenlet_switch\n",
      "KeyboardInterrupt\n"
     ]
    }
   ],
   "source": [
    "!python server.py"
   ]
  }
 ],
 "metadata": {
  "kernelspec": {
   "display_name": "base",
   "language": "python",
   "name": "python3"
  },
  "language_info": {
   "codemirror_mode": {
    "name": "ipython",
    "version": 3
   },
   "file_extension": ".py",
   "mimetype": "text/x-python",
   "name": "python",
   "nbconvert_exporter": "python",
   "pygments_lexer": "ipython3",
   "version": "3.11.7"
  }
 },
 "nbformat": 4,
 "nbformat_minor": 2
}

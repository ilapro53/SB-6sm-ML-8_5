{
 "cells": [
  {
   "cell_type": "code",
   "execution_count": 2,
   "metadata": {},
   "outputs": [],
   "source": [
    "import sys\n",
    "import json\n",
    "import requests\n",
    "import numpy as np\n",
    "from PIL import Image"
   ]
  },
  {
   "cell_type": "code",
   "execution_count": 3,
   "metadata": {},
   "outputs": [],
   "source": [
    "def resize(img, new_size):\n",
    "    img = Image.fromarray(img)\n",
    "    img = img.resize(new_size)\n",
    "    return np.array(img)"
   ]
  },
  {
   "cell_type": "code",
   "execution_count": 4,
   "metadata": {},
   "outputs": [],
   "source": [
    "def prepare_digit(img):\n",
    "    img = resize(img, (28, 28))\n",
    "    img = img.astype(np.float32)/255\n",
    "    if len(img.shape) > 2:\n",
    "        img = np.mean(img, axis=2)\n",
    "    img = (1. - img).astype(np.float32)\n",
    "    img = np.reshape(img, (28, 28, 1))\n",
    "    return img"
   ]
  },
  {
   "cell_type": "code",
   "execution_count": 5,
   "metadata": {},
   "outputs": [
    {
     "data": {
      "image/png": "[encoded data removed]",
      "text/plain": [
       "<PIL.PngImagePlugin.PngImageFile image mode=RGB size=256x256>"
      ]
     },
     "execution_count": 5,
     "metadata": {},
     "output_type": "execute_result"
    }
   ],
   "source": [
    "# img_fpath = sys.argv[1]\n",
    "img_fpath = './test_images/Bag_7480.png'\n",
    "img = Image.open(img_fpath)\n",
    "img"
   ]
  },
  {
   "cell_type": "code",
   "execution_count": 64,
   "metadata": {},
   "outputs": [],
   "source": [
    "def prepare_input(img):\n",
    "    img = img.convert(\"F\")\n",
    "    img = np.array(img, dtype=np.uint8)\n",
    "    img = prepare_digit(img)\n",
    "    return img[:,:,0][None,:,:]"
   ]
  },
  {
   "cell_type": "code",
   "execution_count": 78,
   "metadata": {},
   "outputs": [],
   "source": [
    "def decode_predictions(data):\n",
    "    class_names = ['T-shirt/top', 'Trouser', 'Pullover', 'Dress', 'Coat',\n",
    "               'Sandal', 'Shirt', 'Sneaker', 'Bag', 'Ankle boot']\n",
    "    \n",
    "    preds = np.argmax(data, axis=-1)\n",
    "    preds = [class_names[i] for i in preds]\n",
    "\n",
    "    return preds"
   ]
  },
  {
   "cell_type": "code",
   "execution_count": 65,
   "metadata": {},
   "outputs": [
    {
     "data": {
      "text/plain": [
       "(1, 28, 28)"
      ]
     },
     "execution_count": 65,
     "metadata": {},
     "output_type": "execute_result"
    }
   ],
   "source": [
    "inp = prepare_input(img)\n",
    "inp.shape"
   ]
  },
  {
   "cell_type": "code",
   "execution_count": 66,
   "metadata": {},
   "outputs": [],
   "source": [
    "# request_data = json.dumps({\n",
    "#     \"signature_name\": \"serving_default\",\n",
    "#     \"instances\": inp.tolist()\n",
    "# })\n",
    "# headers = {\"content-type\": \"application/json\"}\n",
    "\n",
    "request_data = json.dumps({\n",
    "    \"instances\": inp.tolist()\n",
    "})\n",
    "headers = {\"content-type\": \"application/json\"}"
   ]
  },
  {
   "cell_type": "code",
   "execution_count": 9,
   "metadata": {},
   "outputs": [],
   "source": [
    "# https://l8rlg4tr0dj-496ff2e9c6d22116-8501-colab.googleusercontent.com/"
   ]
  },
  {
   "cell_type": "code",
   "execution_count": 83,
   "metadata": {},
   "outputs": [
    {
     "name": "stdout",
     "output_type": "stream",
     "text": [
      "Prediction: Bag\n"
     ]
    }
   ],
   "source": [
    "json_response = requests.post(\n",
    "    'http://localhost:8502/models/my_model/:predict',\n",
    "    data=request_data, headers=headers\n",
    ")\n",
    "\n",
    "response = json.loads(json_response.content.decode())\n",
    "\n",
    "if 'prdictions' in response:\n",
    "    preds = decode_predictions(response['prdictions'])\n",
    "    print('Prediction:', preds[0])\n",
    "else:\n",
    "    print(response)"
   ]
  },
  {
   "cell_type": "code",
   "execution_count": 84,
   "metadata": {},
   "outputs": [
    {
     "data": {
      "text/plain": [
       "'./test_images/Bag_7480.png'"
      ]
     },
     "execution_count": 84,
     "metadata": {},
     "output_type": "execute_result"
    }
   ],
   "source": [
    "'./test_images/Bag_7480.png'"
   ]
  }
 ],
 "metadata": {
  "kernelspec": {
   "display_name": "base",
   "language": "python",
   "name": "python3"
  },
  "language_info": {
   "codemirror_mode": {
    "name": "ipython",
    "version": 3
   },
   "file_extension": ".py",
   "mimetype": "text/x-python",
   "name": "python",
   "nbconvert_exporter": "python",
   "pygments_lexer": "ipython3",
   "version": "3.1.undefined"
  }
 },
 "nbformat": 4,
 "nbformat_minor": 2
}

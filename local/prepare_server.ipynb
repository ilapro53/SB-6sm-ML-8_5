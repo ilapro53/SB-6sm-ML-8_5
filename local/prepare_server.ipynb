{
  "cells": [
    {
      "cell_type": "markdown",
      "metadata": {},
      "source": [
        "## Сервер"
      ]
    },
    {
      "cell_type": "code",
      "execution_count": 1,
      "metadata": {},
      "outputs": [],
      "source": [
        "from IPython.core.magic import register_line_cell_magic\n",
        "\n",
        "@register_line_cell_magic\n",
        "def fwritefile(line, cell):\n",
        "    with open(line, 'w') as f:\n",
        "        f.write(cell.format(**globals()))"
      ]
    },
    {
      "cell_type": "markdown",
      "metadata": {},
      "source": [
        "Скрипт для установки сервера"
      ]
    },
    {
      "cell_type": "code",
      "execution_count": 115,
      "metadata": {
        "colab": {
          "base_uri": "https://localhost:8080/"
        },
        "id": "-aQJwYsTPdbB",
        "outputId": "f9a71327-9f93-48d2-f865-f8715567dd4c"
      },
      "outputs": [
        {
          "name": "stdout",
          "output_type": "stream",
          "text": [
            "Overwriting install_server.sh\n"
          ]
        }
      ],
      "source": [
        "%%writefile install_server.sh\n",
        "echo \"deb [arch=amd64] http://storage.googleapis.com/tensorflow-serving-apt stable tensorflow-model-server tensorflow-model-server-universal\" | sudo tee /etc/apt/sources.list.d/tensorflow-serving.list && \\\n",
        "curl https://storage.googleapis.com/tensorflow-serving-apt/tensorflow-serving.release.pub.gpg | sudo apt-key add -\n",
        "apt-get update && apt-get install tensorflow-model-server"
      ]
    },
    {
      "cell_type": "markdown",
      "metadata": {},
      "source": [
        "Файл зависимостей python"
      ]
    },
    {
      "cell_type": "code",
      "execution_count": 43,
      "metadata": {
        "colab": {
          "base_uri": "https://localhost:8080/"
        },
        "id": "x_E911YIPpxK",
        "outputId": "633df299-87f6-4067-dc7f-395ee21d4d70"
      },
      "outputs": [
        {
          "name": "stdout",
          "output_type": "stream",
          "text": [
            "Overwriting requirements.txt\n"
          ]
        }
      ],
      "source": [
        "%%writefile requirements.txt\n",
        "absl-py==1.2.0\n",
        "astunparse==1.6.3\n",
        "cachetools==5.2.0\n",
        "certifi==2022.9.14\n",
        "charset-normalizer==2.1.1\n",
        "contourpy==1.0.5\n",
        "cycler==0.11.0\n",
        "flatbuffers==2.0.7\n",
        "fonttools==4.37.3\n",
        "gast==0.5.3\n",
        "google-auth==2.11.1\n",
        "google-auth-oauthlib==0.4.6\n",
        "google-pasta==0.2.0\n",
        "grpcio==1.36.1\n",
        "h5py==3.7.0\n",
        "idna==3.4\n",
        "importlib-metadata==4.12.0\n",
        "jsonpatch==1.32\n",
        "jsonpointer==2.3\n",
        "keras==2.8.0\n",
        "Keras-Preprocessing==1.1.2\n",
        "kiwisolver==1.4.4\n",
        "libclang==14.0.6\n",
        "Markdown==3.4.1\n",
        "MarkupSafe==2.1.1\n",
        "matplotlib==3.6.0\n",
        "numpy==1.23.3\n",
        "oauthlib==3.2.1\n",
        "opt-einsum==3.3.0\n",
        "packaging==21.3\n",
        "Pillow==9.2.0\n",
        "protobuf==3.19.5\n",
        "pyasn1==0.4.8\n",
        "pyasn1-modules==0.2.8\n",
        "pyparsing==3.0.9\n",
        "python-dateutil==2.8.2\n",
        "pyzmq==24.0.0\n",
        "requests==2.28.1\n",
        "requests-oauthlib==1.3.1\n",
        "rsa==4.9\n",
        "# scipy==1.9.1\n",
        "six==1.16.0\n",
        "tensorboard==2.8.0\n",
        "tensorboard-data-server==0.6.1\n",
        "tensorboard-plugin-wit==1.8.1\n",
        "tensorflow==2.8.2\n",
        "tensorflow-estimator==2.8.0\n",
        "tensorflow-io-gcs-filesystem==0.27.0\n",
        "termcolor==2.0.1\n",
        "torchfile==0.1.0\n",
        "tornado==6.2\n",
        "typing_extensions==4.3.0\n",
        "urllib3==1.26.12\n",
        "visdom==0.1.8.9\n",
        "websocket-client==1.4.1\n",
        "Werkzeug==2.2.2\n",
        "wrapt==1.14.1\n",
        "zipp==3.8.1"
      ]
    },
    {
      "cell_type": "markdown",
      "metadata": {},
      "source": [
        "Скрипт запксуа сервера"
      ]
    },
    {
      "cell_type": "code",
      "execution_count": 21,
      "metadata": {},
      "outputs": [
        {
          "data": {
            "text/plain": [
              "'/tmp/tfsrver/models/my_model/'"
            ]
          },
          "execution_count": 21,
          "metadata": {},
          "output_type": "execute_result"
        }
      ],
      "source": [
        "import json\n",
        "\n",
        "with open('server_config.json', 'r') as file:\n",
        "    j = json.load(file)\n",
        "\n",
        "modl_name = j['modl_name']\n",
        "model_path = j['model_path']\n",
        "\n",
        "model_path"
      ]
    },
    {
      "cell_type": "code",
      "execution_count": 23,
      "metadata": {
        "colab": {
          "base_uri": "https://localhost:8080/"
        },
        "id": "C5LSR25uP0Zj",
        "outputId": "c845ecef-3ae8-4de1-a83d-6647c4a15a5d"
      },
      "outputs": [],
      "source": [
        "%%fwritefile start_server.sh\n",
        "echo\n",
        "echo server started\n",
        "nohup tensorflow_model_server --rest_api_port=8501 --model_name=\"{modl_name}\" --model_base_path=\"{model_path}\" >server.log 2>&1"
      ]
    },
    {
      "cell_type": "code",
      "execution_count": 4,
      "metadata": {
        "colab": {
          "base_uri": "https://localhost:8080/"
        },
        "id": "w6r9taRSP-p0",
        "outputId": "b90b21d6-0f32-42c9-9072-8c8bf5b4f7e1"
      },
      "outputs": [
        {
          "name": "stdout",
          "output_type": "stream",
          "text": [
            "install_server.sh  reqirements.txt  setup.ipynb  start_server.sh\n"
          ]
        }
      ],
      "source": [
        "!ls"
      ]
    },
    {
      "cell_type": "markdown",
      "metadata": {},
      "source": [
        "Другое"
      ]
    },
    {
      "cell_type": "code",
      "execution_count": 38,
      "metadata": {},
      "outputs": [],
      "source": [
        "# !echo {getpass()} | sudo -S sh prepare_env.sh"
      ]
    },
    {
      "cell_type": "code",
      "execution_count": 104,
      "metadata": {},
      "outputs": [],
      "source": [
        "# !./server_venv/bin/python -m pip install --upgrade pip"
      ]
    },
    {
      "cell_type": "code",
      "execution_count": 105,
      "metadata": {},
      "outputs": [],
      "source": [
        "# !./server_venv/bin/python -m pip install --upgrade setuptools wheel"
      ]
    },
    {
      "cell_type": "code",
      "execution_count": 106,
      "metadata": {},
      "outputs": [],
      "source": [
        "# !pip cache purge"
      ]
    },
    {
      "cell_type": "code",
      "execution_count": 5,
      "metadata": {},
      "outputs": [],
      "source": [
        "# !echo {getpass()} | sudo -S apt install build-essential -y"
      ]
    },
    {
      "cell_type": "code",
      "execution_count": 3,
      "metadata": {},
      "outputs": [],
      "source": [
        "# !python -m pip install meson\n",
        "# !echo {getpass()} | sudo -S apt install gfortran -y\n",
        "# !echo {getpass()} | sudo -S apt install libopenblas-dev pkg-config libopenblas64-dev -y\n",
        "# !echo {getpass()} | sudo -S apt install patchelf python3-pythran cython3 gfortran -y"
      ]
    },
    {
      "cell_type": "code",
      "execution_count": 4,
      "metadata": {},
      "outputs": [],
      "source": [
        "# !python -m pip install -r requirements.txt #--upgrade --force-reinstall"
      ]
    },
    {
      "cell_type": "code",
      "execution_count": 6,
      "metadata": {},
      "outputs": [],
      "source": [
        "# !meson"
      ]
    },
    {
      "cell_type": "markdown",
      "metadata": {},
      "source": [
        "Установка сервера"
      ]
    },
    {
      "cell_type": "code",
      "execution_count": 3,
      "metadata": {
        "colab": {
          "base_uri": "https://localhost:8080/"
        },
        "id": "2gZFfuURP_z-",
        "outputId": "cb8e3378-0b5a-44ff-b2cd-58618d16f05d"
      },
      "outputs": [
        {
          "name": "stdout",
          "output_type": "stream",
          "text": [
            "[sudo] password for ilapr: deb [arch=amd64] http://storage.googleapis.com/tensorflow-serving-apt stable tensorflow-model-server tensorflow-model-server-universal\n",
            "  % Total    % Received % Xferd  Average Speed   Time    Time     Time  Current\n",
            "                                 Dload  Upload   Total   Spent    Left  Speed\n",
            "  0     0    0     0    0     0      0      0 --:--:-- --:--:-- --:--:--     0Warning: apt-key is deprecated. Manage keyring files in trusted.gpg.d instead (see apt-key(8)).\n",
            "100  2943  100  2943    0     0   2433      0  0:00:01  0:00:01 --:--:--  2434\n",
            "OK\n",
            "Get:1 http://storage.googleapis.com/tensorflow-serving-apt stable InRelease [3026 B]\n",
            "Get:2 http://security.ubuntu.com/ubuntu jammy-security InRelease [110 kB]      \n",
            "Hit:3 http://archive.ubuntu.com/ubuntu jammy InRelease                         \n",
            "Get:4 http://archive.ubuntu.com/ubuntu jammy-updates InRelease [119 kB]        \n",
            "Get:5 http://storage.googleapis.com/tensorflow-serving-apt stable/tensorflow-model-server amd64 Packages [341 B]\n",
            "Get:6 http://storage.googleapis.com/tensorflow-serving-apt stable/tensorflow-model-server-universal amd64 Packages [349 B]\n",
            "Hit:7 http://archive.ubuntu.com/ubuntu jammy-backports InRelease\n",
            "Get:8 http://archive.ubuntu.com/ubuntu jammy-updates/main amd64 Packages [1683 kB]\n",
            "Get:9 http://archive.ubuntu.com/ubuntu jammy-updates/universe amd64 Packages [1075 kB]\n",
            "Fetched 2991 kB in 3s (924 kB/s)                         \n",
            "Reading package lists... Done\n",
            "W: http://storage.googleapis.com/tensorflow-serving-apt/dists/stable/InRelease: Key is stored in legacy trusted.gpg keyring (/etc/apt/trusted.gpg), see the DEPRECATION section in apt-key(8) for details.\n",
            "Reading package lists... Done\n",
            "Building dependency tree... Done\n",
            "Reading state information... Done\n",
            "The following NEW packages will be installed:\n",
            "  tensorflow-model-server\n",
            "0 upgraded, 1 newly installed, 0 to remove and 103 not upgraded.\n",
            "Need to get 650 MB of archives.\n",
            "After this operation, 0 B of additional disk space will be used.\n",
            "Get:1 http://storage.googleapis.com/tensorflow-serving-apt stable/tensorflow-model-server amd64 tensorflow-model-server all 2.16.1 [650 MB]\n",
            "Fetched 650 MB in 2min 30s (4323 kB/s)                                         \n",
            "Selecting previously unselected package tensorflow-model-server.\n",
            "(Reading database ... 25878 files and directories currently installed.)\n",
            "Preparing to unpack .../tensorflow-model-server_2.16.1_all.deb ...\n",
            "Unpacking tensorflow-model-server (2.16.1) ...\n",
            "Setting up tensorflow-model-server (2.16.1) ...\n"
          ]
        }
      ],
      "source": [
        "from getpass import getpass\n",
        "!echo {getpass()} | sudo -S sh install_server.sh"
      ]
    },
    {
      "cell_type": "markdown",
      "metadata": {},
      "source": [
        "Установка зависимостей"
      ]
    },
    {
      "cell_type": "code",
      "execution_count": 2,
      "metadata": {},
      "outputs": [],
      "source": [
        "!echo {getpass()} | cat requirements.txt | xargs -n 1 pip install"
      ]
    },
    {
      "cell_type": "markdown",
      "metadata": {},
      "source": [
        "Запуск сервера"
      ]
    },
    {
      "cell_type": "code",
      "execution_count": 1,
      "metadata": {},
      "outputs": [
        {
          "name": "stdout",
          "output_type": "stream",
          "text": [
            "[sudo] password for ilapr: \n",
            "server started\n",
            "^C\n"
          ]
        }
      ],
      "source": [
        "from getpass import getpass\n",
        "!echo {getpass()} | sudo -S sh start_server.sh"
      ]
    }
  ],
  "metadata": {
    "colab": {
      "provenance": []
    },
    "kernelspec": {
      "display_name": "Python 3",
      "name": "python3"
    },
    "language_info": {
      "codemirror_mode": {
        "name": "ipython",
        "version": 3
      },
      "file_extension": ".py",
      "mimetype": "text/x-python",
      "name": "python",
      "nbconvert_exporter": "python",
      "pygments_lexer": "ipython3",
      "version": "3.11.7"
    }
  },
  "nbformat": 4,
  "nbformat_minor": 0
}
